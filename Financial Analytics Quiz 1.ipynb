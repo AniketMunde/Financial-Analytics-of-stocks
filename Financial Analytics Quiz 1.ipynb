{
 "cells": [
  {
   "cell_type": "code",
   "execution_count": 2,
   "metadata": {},
   "outputs": [],
   "source": [
    "import pandas as pd\n",
    "import numpy as np\n",
    "import matplotlib.pyplot as plt"
   ]
  },
  {
   "cell_type": "code",
   "execution_count": 18,
   "metadata": {},
   "outputs": [
    {
     "name": "stdout",
     "output_type": "stream",
     "text": [
      "Requirement already satisfied: pandas_datareader in c:\\users\\hp\\conda\\lib\\site-packages (0.10.0)\n",
      "Requirement already satisfied: pandas>=0.23 in c:\\users\\hp\\conda\\lib\\site-packages (from pandas_datareader) (0.25.1)\n",
      "Requirement already satisfied: requests>=2.19.0 in c:\\users\\hp\\conda\\lib\\site-packages (from pandas_datareader) (2.22.0)\n",
      "Requirement already satisfied: lxml in c:\\users\\hp\\conda\\lib\\site-packages (from pandas_datareader) (4.4.1)\n",
      "Requirement already satisfied: python-dateutil>=2.6.1 in c:\\users\\hp\\conda\\lib\\site-packages (from pandas>=0.23->pandas_datareader) (2.8.0)\n",
      "Requirement already satisfied: numpy>=1.13.3 in c:\\users\\hp\\conda\\lib\\site-packages (from pandas>=0.23->pandas_datareader) (1.16.5)\n",
      "Requirement already satisfied: pytz>=2017.2 in c:\\users\\hp\\conda\\lib\\site-packages (from pandas>=0.23->pandas_datareader) (2019.3)\n",
      "Requirement already satisfied: chardet<3.1.0,>=3.0.2 in c:\\users\\hp\\conda\\lib\\site-packages (from requests>=2.19.0->pandas_datareader) (3.0.4)\n",
      "Requirement already satisfied: urllib3!=1.25.0,!=1.25.1,<1.26,>=1.21.1 in c:\\users\\hp\\conda\\lib\\site-packages (from requests>=2.19.0->pandas_datareader) (1.24.2)\n",
      "Requirement already satisfied: certifi>=2017.4.17 in c:\\users\\hp\\conda\\lib\\site-packages (from requests>=2.19.0->pandas_datareader) (2019.9.11)\n",
      "Requirement already satisfied: idna<2.9,>=2.5 in c:\\users\\hp\\conda\\lib\\site-packages (from requests>=2.19.0->pandas_datareader) (2.8)\n",
      "Requirement already satisfied: six>=1.5 in c:\\users\\hp\\conda\\lib\\site-packages (from python-dateutil>=2.6.1->pandas>=0.23->pandas_datareader) (1.12.0)\n"
     ]
    }
   ],
   "source": [
    "#to connect a live dataset we need a library called datareader\n",
    "%pip install pandas_datareader"
   ]
  },
  {
   "cell_type": "code",
   "execution_count": 3,
   "metadata": {},
   "outputs": [],
   "source": [
    "from pandas_datareader import data as wb"
   ]
  },
  {
   "cell_type": "code",
   "execution_count": 4,
   "metadata": {},
   "outputs": [],
   "source": [
    "#analysis of 3 companies\n",
    "ticker = ['BAJFINANCE.NS','M&MFIN.BO','MUTHOOTFIN.NS']\n",
    "data = pd.DataFrame()\n",
    "for i in ticker:\n",
    "    data[i]=wb.DataReader(i, data_source='yahoo', start= '2014-01-01')['Adj Close']\n",
    "    "
   ]
  },
  {
   "cell_type": "code",
   "execution_count": 5,
   "metadata": {},
   "outputs": [
    {
     "data": {
      "text/html": [
       "<div>\n",
       "<style scoped>\n",
       "    .dataframe tbody tr th:only-of-type {\n",
       "        vertical-align: middle;\n",
       "    }\n",
       "\n",
       "    .dataframe tbody tr th {\n",
       "        vertical-align: top;\n",
       "    }\n",
       "\n",
       "    .dataframe thead th {\n",
       "        text-align: right;\n",
       "    }\n",
       "</style>\n",
       "<table border=\"1\" class=\"dataframe\">\n",
       "  <thead>\n",
       "    <tr style=\"text-align: right;\">\n",
       "      <th></th>\n",
       "      <th>BAJFINANCE.NS</th>\n",
       "      <th>M&amp;MFIN.BO</th>\n",
       "      <th>MUTHOOTFIN.NS</th>\n",
       "    </tr>\n",
       "    <tr>\n",
       "      <th>Date</th>\n",
       "      <th></th>\n",
       "      <th></th>\n",
       "      <th></th>\n",
       "    </tr>\n",
       "  </thead>\n",
       "  <tbody>\n",
       "    <tr>\n",
       "      <td>2014-01-01</td>\n",
       "      <td>152.649780</td>\n",
       "      <td>293.582092</td>\n",
       "      <td>88.315651</td>\n",
       "    </tr>\n",
       "    <tr>\n",
       "      <td>2014-01-02</td>\n",
       "      <td>152.542877</td>\n",
       "      <td>290.288574</td>\n",
       "      <td>89.007523</td>\n",
       "    </tr>\n",
       "    <tr>\n",
       "      <td>2014-01-03</td>\n",
       "      <td>151.211105</td>\n",
       "      <td>291.294922</td>\n",
       "      <td>88.844742</td>\n",
       "    </tr>\n",
       "    <tr>\n",
       "      <td>2014-01-06</td>\n",
       "      <td>150.817383</td>\n",
       "      <td>289.099182</td>\n",
       "      <td>87.338898</td>\n",
       "    </tr>\n",
       "    <tr>\n",
       "      <td>2014-01-07</td>\n",
       "      <td>151.070145</td>\n",
       "      <td>278.806976</td>\n",
       "      <td>87.420296</td>\n",
       "    </tr>\n",
       "    <tr>\n",
       "      <td>...</td>\n",
       "      <td>...</td>\n",
       "      <td>...</td>\n",
       "      <td>...</td>\n",
       "    </tr>\n",
       "    <tr>\n",
       "      <td>2022-09-19</td>\n",
       "      <td>7496.100098</td>\n",
       "      <td>223.300003</td>\n",
       "      <td>1028.099976</td>\n",
       "    </tr>\n",
       "    <tr>\n",
       "      <td>2022-09-20</td>\n",
       "      <td>7635.399902</td>\n",
       "      <td>227.199997</td>\n",
       "      <td>1033.949951</td>\n",
       "    </tr>\n",
       "    <tr>\n",
       "      <td>2022-09-21</td>\n",
       "      <td>7690.649902</td>\n",
       "      <td>223.649994</td>\n",
       "      <td>1036.400024</td>\n",
       "    </tr>\n",
       "    <tr>\n",
       "      <td>2022-09-22</td>\n",
       "      <td>7719.549805</td>\n",
       "      <td>223.750000</td>\n",
       "      <td>1014.299988</td>\n",
       "    </tr>\n",
       "    <tr>\n",
       "      <td>2022-09-23</td>\n",
       "      <td>7555.000000</td>\n",
       "      <td>199.100006</td>\n",
       "      <td>1003.500000</td>\n",
       "    </tr>\n",
       "  </tbody>\n",
       "</table>\n",
       "<p>2153 rows × 3 columns</p>\n",
       "</div>"
      ],
      "text/plain": [
       "            BAJFINANCE.NS   M&MFIN.BO  MUTHOOTFIN.NS\n",
       "Date                                                \n",
       "2014-01-01     152.649780  293.582092      88.315651\n",
       "2014-01-02     152.542877  290.288574      89.007523\n",
       "2014-01-03     151.211105  291.294922      88.844742\n",
       "2014-01-06     150.817383  289.099182      87.338898\n",
       "2014-01-07     151.070145  278.806976      87.420296\n",
       "...                   ...         ...            ...\n",
       "2022-09-19    7496.100098  223.300003    1028.099976\n",
       "2022-09-20    7635.399902  227.199997    1033.949951\n",
       "2022-09-21    7690.649902  223.649994    1036.400024\n",
       "2022-09-22    7719.549805  223.750000    1014.299988\n",
       "2022-09-23    7555.000000  199.100006    1003.500000\n",
       "\n",
       "[2153 rows x 3 columns]"
      ]
     },
     "execution_count": 5,
     "metadata": {},
     "output_type": "execute_result"
    }
   ],
   "source": [
    "data"
   ]
  },
  {
   "cell_type": "code",
   "execution_count": 6,
   "metadata": {},
   "outputs": [
    {
     "data": {
      "text/plain": [
       "BAJFINANCE.NS    152.649780\n",
       "M&MFIN.BO        293.582092\n",
       "MUTHOOTFIN.NS     88.315651\n",
       "Name: 2014-01-01 00:00:00, dtype: float64"
      ]
     },
     "execution_count": 6,
     "metadata": {},
     "output_type": "execute_result"
    }
   ],
   "source": [
    "data.iloc[0] #get first days data"
   ]
  },
  {
   "cell_type": "code",
   "execution_count": 7,
   "metadata": {},
   "outputs": [
    {
     "data": {
      "text/plain": [
       "<matplotlib.axes._subplots.AxesSubplot at 0x1789d4de2c8>"
      ]
     },
     "execution_count": 7,
     "metadata": {},
     "output_type": "execute_result"
    },
    {
     "data": {
      "image/png": "[encoded data removed]",
      "text/plain": [
       "<Figure size 1080x360 with 1 Axes>"
      ]
     },
     "metadata": {
      "needs_background": "light"
     },
     "output_type": "display_data"
    }
   ],
   "source": [
    "((data/data.iloc[0])*100).plot(figsize=(15,5))"
   ]
  },
  {
   "cell_type": "markdown",
   "metadata": {},
   "source": [
    "Find returns of the each company"
   ]
  },
  {
   "cell_type": "code",
   "execution_count": 8,
   "metadata": {},
   "outputs": [],
   "source": [
    "#shift command gives previous value \n",
    "returns1 = ((data/data.shift(1))-1)\n",
    "returns = np.squeeze(np.asarray(returns1))\n"
   ]
  },
  {
   "cell_type": "code",
   "execution_count": 9,
   "metadata": {},
   "outputs": [
    {
     "data": {
      "text/plain": [
       "array([0.25, 0.25, 0.25])"
      ]
     },
     "execution_count": 9,
     "metadata": {},
     "output_type": "execute_result"
    }
   ],
   "source": [
    "#consider equal amount invested in all  companies\n",
    "weights = np.array([0.25,0.25,0.25])\n",
    "weights"
   ]
  },
  {
   "cell_type": "code",
   "execution_count": 16,
   "metadata": {},
   "outputs": [
    {
     "data": {
      "text/plain": [
       "array([        nan, -0.00102116, -0.00177315, ..., -0.00150484,\n",
       "       -0.00427972, -0.03553282])"
      ]
     },
     "execution_count": 16,
     "metadata": {},
     "output_type": "execute_result"
    }
   ],
   "source": [
    "#a dot product gives multiplication of two arrays or matrix\n",
    "np.dot(returns,weights)\n",
    "#(returns*weights)"
   ]
  },
  {
   "cell_type": "code",
   "execution_count": 19,
   "metadata": {},
   "outputs": [
    {
     "data": {
      "text/plain": [
       "nan"
      ]
     },
     "execution_count": 19,
     "metadata": {},
     "output_type": "execute_result"
    }
   ],
   "source": [
    "annual_return = returns.mean()*250\n",
    "annual_return"
   ]
  },
  {
   "cell_type": "code",
   "execution_count": 18,
   "metadata": {},
   "outputs": [],
   "source": [
    "#find return on all 3 companies\n",
    "result = np.dot(annual_return,weights)\n"
   ]
  },
  {
   "cell_type": "code",
   "execution_count": 36,
   "metadata": {},
   "outputs": [
    {
     "data": {
      "text/plain": [
       "18.38"
      ]
     },
     "execution_count": 36,
     "metadata": {},
     "output_type": "execute_result"
    }
   ],
   "source": [
    "round(result,4)*100\n",
    "print(\"The overall return for the investment is \",round(result,4)*100,\"%\")"
   ]
  }
 ],
 "metadata": {
  "kernelspec": {
   "display_name": "Python 3",
   "language": "python",
   "name": "python3"
  },
  "language_info": {
   "codemirror_mode": {
    "name": "ipython",
    "version": 3
   },
   "file_extension": ".py",
   "mimetype": "text/x-python",
   "name": "python",
   "nbconvert_exporter": "python",
   "pygments_lexer": "ipython3",
   "version": "3.7.4"
  }
 },
 "nbformat": 4,
 "nbformat_minor": 2
}
